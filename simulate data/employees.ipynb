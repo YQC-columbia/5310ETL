{
 "cells": [
  {
   "cell_type": "code",
   "execution_count": 2,
   "id": "8b146100-e7e5-428a-a5c7-1f288aeab67c",
   "metadata": {},
   "outputs": [],
   "source": [
    "import pandas as pd\n",
    "import numpy as np\n",
    "from faker import Faker\n",
    "import random\n",
    "\n",
    "fake = Faker()"
   ]
  },
  {
   "cell_type": "code",
   "execution_count": 3,
   "id": "f4ffd257-b5b2-4064-aa1f-cc301d8c7ffa",
   "metadata": {},
   "outputs": [],
   "source": [
    "num_offices = 3\n",
    "num_departments = 5\n",
    "num_employees = 50\n",
    "num_salaries = num_employees\n",
    "num_transactions = 5000\n",
    "num_houses = 1000\n",
    "num_clients = 3000\n",
    "num_profits = 5000\n",
    "num_sales = 5000\n",
    "num_expenses = 30"
   ]
  },
  {
   "cell_type": "markdown",
   "id": "759f7ec6-66e3-4d3c-8430-f229e3493213",
   "metadata": {},
   "source": [
    "### offices table"
   ]
  },
  {
   "cell_type": "code",
   "execution_count": 5,
   "id": "d1db2786-dd00-4110-b4d2-ec27bdbffdab",
   "metadata": {},
   "outputs": [],
   "source": [
    "ny_addresses = [\"53 Manhattan St, New York, NY 10001\", \"456 Brooklyn Ave, New York, NY 11201\", \"5 Queens Blvd, New York, NY 11375\"]\n",
    "nj_addresses = [\"81 Newark St, Newark, NJ 07102\", \"654 Jersey City Rd, Jersey City, NJ 07302\", \"98 Hoboken Ave, Hoboken, NJ 07030\"]\n",
    "ct_addresses = [\"62 Hartford Rd, Hartford, CT 06103\", \"753 New Haven St, New Haven, CT 06510\", \"95 Stamford Blvd, Stamford, CT 06901\"]\n",
    "\n",
    "addresses = ny_addresses[:1] + nj_addresses[:1] + ct_addresses[:1]\n",
    "\n",
    "offices = pd.DataFrame({\n",
    "    'office_id': range(1, num_offices + 1),\n",
    "    'address': addresses,\n",
    "    'contact_info': [fake.phone_number() for _ in range(num_offices)],\n",
    "    'region': [\"NY\", \"NJ\", \"CT\"]\n",
    "})"
   ]
  },
  {
   "cell_type": "markdown",
   "id": "6ec8e475-e2f3-4826-9ec7-32601abe5713",
   "metadata": {},
   "source": [
    "### departments table"
   ]
  },
  {
   "cell_type": "code",
   "execution_count": 6,
   "id": "01cbf4f3-8c06-421f-b0e8-d947d914a2ac",
   "metadata": {},
   "outputs": [],
   "source": [
    "departments = pd.DataFrame({\n",
    "    'department_id': range(1, num_departments + 1),\n",
    "    'department_name': [fake.bs() for _ in range(num_departments)],\n",
    "    'location': [fake.city() for _ in range(num_departments)],\n",
    "    'manager_id': np.random.randint(1, num_employees + 1, num_departments)\n",
    "})"
   ]
  },
  {
   "cell_type": "code",
   "execution_count": 7,
   "id": "f5c68abb-4573-4a2e-803e-8982c5d2b12e",
   "metadata": {},
   "outputs": [],
   "source": [
    "departments = pd.DataFrame({\n",
    "    'department_id': range(1, num_departments + 1),\n",
    "    'department_name': [\n",
    "        \"Human Resources Department\", \"Property Management Department\", \n",
    "        \"Marketing Department\", \"Customer Service Department\", \n",
    "        \"Finance and Accounting Department\"\n",
    "    ],\n",
    "    'location': [fake.city() for _ in range(num_departments)],\n",
    "    'manager_id': np.random.randint(1, num_employees + 1, num_departments)\n",
    "})"
   ]
  },
  {
   "cell_type": "markdown",
   "id": "eee98e61-ec08-43f9-acb1-9858f565c83d",
   "metadata": {},
   "source": [
    "### employees table"
   ]
  },
  {
   "cell_type": "code",
   "execution_count": 8,
   "id": "c64886b2-0903-4142-b299-c1e02255509d",
   "metadata": {},
   "outputs": [],
   "source": [
    "real_estate_positions = [\n",
    "    \"Real Estate Agent\", \"Property Manager\", \"Leasing Consultant\",\n",
    "    \"Property Appraiser\", \"Real Estate Assistant\",\n",
    "    \"Real Estate Analyst\", \"Real Estate Developer\", \"Home Inspector\"\n",
    "]"
   ]
  },
  {
   "cell_type": "code",
   "execution_count": 15,
   "id": "51746d7d-2415-4642-8391-8d72ea62341c",
   "metadata": {},
   "outputs": [],
   "source": [
    "first_names = [fake.first_name() for _ in range(num_employees)]\n",
    "last_names = [fake.last_name() for _ in range(num_employees)]\n",
    "\n",
    "employees = pd.DataFrame({\n",
    "    'employee_id': range(1, num_employees + 1),\n",
    "    'first_name': first_names,\n",
    "    'last_name': last_names,\n",
    "    'gender': [fake.random_element(elements=('Male', 'Female')) for _ in range(num_employees)],\n",
    "    'date_of_birth': [fake.date_of_birth(minimum_age=18, maximum_age=65) for _ in range(num_employees)],\n",
    "    'email': [f\"{fn.lower()}.{ln.lower()}@gmail.com\" for fn, ln in zip(first_names, last_names)],\n",
    "    'date_of_employment': [fake.date_this_decade() for _ in range(num_employees)],\n",
    "    'position': [fake.random_element(elements=real_estate_positions) for _ in range(num_employees)],\n",
    "    'department_id': np.random.randint(1, num_departments + 1, num_employees),\n",
    "    'employment_status': [fake.random_element(elements=('Active', 'Inactive', 'On Leave')) for _ in range(num_employees)],\n",
    "    'office_id': np.random.randint(1, num_offices + 1, num_employees),\n",
    "    'employment_type': [fake.random_element(elements=('Full-time', 'Part-time', 'Contract')) for _ in range(num_employees)]\n",
    "})"
   ]
  },
  {
   "cell_type": "markdown",
   "id": "2947897e-7123-47c9-bee3-a6813b2735d4",
   "metadata": {},
   "source": [
    "### salaries table"
   ]
  },
  {
   "cell_type": "code",
   "execution_count": 4,
   "id": "c2da4d2c-6562-49a1-87c3-420e1a441a90",
   "metadata": {},
   "outputs": [],
   "source": [
    "salaries = pd.DataFrame({\n",
    "    'salary_id': range(1, num_employees + 1),\n",
    "    'employee_id': range(1, num_employees + 1),\n",
    "    'annual_salary': [round(np.random.uniform(70000, 150000), 2) for _ in range(num_employees)],\n",
    "    'annual_bonus': [round(np.random.uniform(5000, 20000), 2) for _ in range(num_employees)]\n",
    "})"
   ]
  },
  {
   "cell_type": "markdown",
   "id": "4ed7a21d-5ebf-4b36-86ca-59898ab9f62c",
   "metadata": {},
   "source": [
    "### expanses table"
   ]
  },
  {
   "cell_type": "code",
   "execution_count": 19,
   "id": "c1510c9a-9788-4037-ab20-5a8dd0d81b5f",
   "metadata": {},
   "outputs": [],
   "source": [
    "expense_descriptions = [\n",
    "    \"Development Expense\", \"Marketing Expense\", \"Other Expense\",\n",
    "    \"Infrastructure Expense\", \"Operating Expense\"\n",
    "]"
   ]
  },
  {
   "cell_type": "code",
   "execution_count": 20,
   "id": "0861366a-d036-454a-898f-d69b2b0ecc92",
   "metadata": {},
   "outputs": [],
   "source": [
    "expenses = pd.DataFrame({\n",
    "    'expense_id': range(1, num_expenses + 1),\n",
    "    'description': [fake.random_element(elements=expense_descriptions) for _ in range(num_expenses)],\n",
    "    'amount': [round(fake.random_number(digits=5), 2) for _ in range(num_expenses)],\n",
    "    'expense_date': [fake.date_this_year() for _ in range(num_expenses)],\n",
    "    'transaction_id': np.random.randint(1, num_transactions + 1, num_expenses)\n",
    "})"
   ]
  },
  {
   "cell_type": "markdown",
   "id": "54e37910-c1c8-43f6-a9f6-8f98397f9616",
   "metadata": {},
   "source": [
    "### profits table"
   ]
  },
  {
   "cell_type": "code",
   "execution_count": 21,
   "id": "705311e8-90e0-47c9-b327-197902ebd6e6",
   "metadata": {},
   "outputs": [],
   "source": [
    "profits = pd.DataFrame({\n",
    "    'profit_id': range(1, num_profits + 1),\n",
    "    'transaction_id': np.random.randint(1, num_transactions + 1, num_profits),\n",
    "    'net_profit': [round(fake.random_number(digits=5), 2) for _ in range(num_profits)],\n",
    "    'profit_date': [fake.date_this_year() for _ in range(num_profits)]\n",
    "})"
   ]
  },
  {
   "cell_type": "markdown",
   "id": "289b43fa-3e0a-47ec-92f3-b6ddd4b2ce9a",
   "metadata": {},
   "source": [
    "### sales table"
   ]
  },
  {
   "cell_type": "code",
   "execution_count": 22,
   "id": "0badb76c-754e-47f5-badc-6ad6f7af1037",
   "metadata": {},
   "outputs": [],
   "source": [
    "sales = pd.DataFrame({\n",
    "    'sale_id': range(1, num_sales + 1),\n",
    "    'transaction_id': np.random.randint(1, num_transactions + 1, num_sales),\n",
    "    'listing_price': [round(fake.random_number(digits=5) * 1.3, 2) for _ in range(num_sales)],\n",
    "    'sale_price': [round(fake.random_number(digits=5), 2) for _ in range(num_sales)],\n",
    "    'sale_date': [fake.date_this_year() for _ in range(num_sales)]\n",
    "})"
   ]
  },
  {
   "cell_type": "code",
   "execution_count": 23,
   "id": "0e4efc9a-d228-4b05-b692-349d1d30e46b",
   "metadata": {},
   "outputs": [],
   "source": [
    "sales['listing_price'] = np.maximum(sales['listing_price'], sales['sale_price'] * 1.3)\n"
   ]
  },
  {
   "cell_type": "markdown",
   "id": "ec2c80e6-78b9-4e7e-90ab-409d9a5d7fae",
   "metadata": {},
   "source": [
    "### transactions table"
   ]
  },
  {
   "cell_type": "code",
   "execution_count": 24,
   "id": "e93b2420-e048-463c-8835-ce1d0d53d8f8",
   "metadata": {},
   "outputs": [],
   "source": [
    "transactions = pd.DataFrame({\n",
    "    'transaction_id': range(1, num_transactions + 1),\n",
    "    'employee_id': np.random.randint(1, num_employees + 1, num_transactions),\n",
    "    'transaction_type': [fake.random_element(elements=('Sale', 'Lease')) for _ in range(num_transactions)],\n",
    "    'transaction_date': [fake.date_this_year() for _ in range(num_transactions)],\n",
    "    'amount': sales['sale_price'].values,\n",
    "    'house_id': np.random.randint(1, 1001, num_transactions),\n",
    "    'client_id': np.random.randint(1, num_clients + 1, num_transactions)\n",
    "})"
   ]
  },
  {
   "cell_type": "code",
   "execution_count": 25,
   "id": "18e2ffc8-5643-4893-b9d5-1c45875050b8",
   "metadata": {},
   "outputs": [],
   "source": [
    "profits['net_profit'] = np.minimum(profits['net_profit'], transactions['amount'] - 1)"
   ]
  },
  {
   "cell_type": "code",
   "execution_count": 5,
   "id": "cb41cb7f-97e8-41a0-94ae-1c56bb6fae52",
   "metadata": {},
   "outputs": [
    {
     "ename": "NameError",
     "evalue": "name 'offices' is not defined",
     "output_type": "error",
     "traceback": [
      "\u001b[0;31m---------------------------------------------------------------------------\u001b[0m",
      "\u001b[0;31mNameError\u001b[0m                                 Traceback (most recent call last)",
      "Cell \u001b[0;32mIn[5], line 2\u001b[0m\n\u001b[1;32m      1\u001b[0m \u001b[38;5;66;03m# Save to CSV files\u001b[39;00m\n\u001b[0;32m----> 2\u001b[0m offices\u001b[38;5;241m.\u001b[39mto_csv(\u001b[38;5;124m'\u001b[39m\u001b[38;5;124m/Users/yeqianchi/Desktop/5310/offices.csv\u001b[39m\u001b[38;5;124m'\u001b[39m, index\u001b[38;5;241m=\u001b[39m\u001b[38;5;28;01mFalse\u001b[39;00m)\n\u001b[1;32m      3\u001b[0m departments\u001b[38;5;241m.\u001b[39mto_csv(\u001b[38;5;124m'\u001b[39m\u001b[38;5;124m/Users/yeqianchi/Desktop/5310/departments.csv\u001b[39m\u001b[38;5;124m'\u001b[39m, index\u001b[38;5;241m=\u001b[39m\u001b[38;5;28;01mFalse\u001b[39;00m)\n\u001b[1;32m      4\u001b[0m employees\u001b[38;5;241m.\u001b[39mto_csv(\u001b[38;5;124m'\u001b[39m\u001b[38;5;124m/Users/yeqianchi/Desktop/5310/employees.csv\u001b[39m\u001b[38;5;124m'\u001b[39m, index\u001b[38;5;241m=\u001b[39m\u001b[38;5;28;01mFalse\u001b[39;00m)\n",
      "\u001b[0;31mNameError\u001b[0m: name 'offices' is not defined"
     ]
    }
   ],
   "source": [
    "# Save to CSV files\n",
    "offices.to_csv('/Users/yeqianchi/Desktop/5310/offices.csv', index=False)\n",
    "departments.to_csv('/Users/yeqianchi/Desktop/5310/departments.csv', index=False)\n",
    "employees.to_csv('/Users/yeqianchi/Desktop/5310/employees.csv', index=False)\n",
    "salaries.to_csv('/Users/yeqianchi/Desktop/5310/salaries.csv', index=False)\n",
    "expenses.to_csv('/Users/yeqianchi/Desktop/5310/expenses.csv', index=False)\n",
    "profits.to_csv('/Users/yeqianchi/Desktop/5310/profits.csv', index=False)\n",
    "sales.to_csv('/Users/yeqianchi/Desktop/5310/sales.csv', index=False)\n",
    "transactions.to_csv('/Users/yeqianchi/Desktop/5310/transactions.csv', index=False)"
   ]
  },
  {
   "cell_type": "code",
   "execution_count": 6,
   "id": "fcb33991-b883-4954-bc45-4cd3750bdde7",
   "metadata": {},
   "outputs": [],
   "source": [
    "salaries.to_csv('/Users/yeqianchi/Desktop/5310/salaries.csv', index=False)\n"
   ]
  }
 ],
 "metadata": {
  "kernelspec": {
   "display_name": "Python 3 (ipykernel)",
   "language": "python",
   "name": "python3"
  },
  "language_info": {
   "codemirror_mode": {
    "name": "ipython",
    "version": 3
   },
   "file_extension": ".py",
   "mimetype": "text/x-python",
   "name": "python",
   "nbconvert_exporter": "python",
   "pygments_lexer": "ipython3",
   "version": "3.11.7"
  }
 },
 "nbformat": 4,
 "nbformat_minor": 5
}
