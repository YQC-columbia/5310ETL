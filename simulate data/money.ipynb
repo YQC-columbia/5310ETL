{
 "cells": [
  {
   "cell_type": "code",
   "execution_count": 1,
   "id": "287015f0-08d4-4202-a6c4-a229ac271923",
   "metadata": {},
   "outputs": [],
   "source": [
    "import random\n",
    "from faker import Faker\n",
    "import pandas as pd\n",
    "fake = Faker()"
   ]
  },
  {
   "cell_type": "code",
   "execution_count": 2,
   "id": "e14dd9c4-6c75-4670-9161-a0f7cf48b1fc",
   "metadata": {},
   "outputs": [],
   "source": [
    "NUM_EXPENSES = 30\n",
    "NUM_PROFITS = 5000\n",
    "NUM_SALES = 5000\n",
    "NUM_TRANSACTIONS = 5000\n",
    "NUM_CLIENTS = 3000\n",
    "NUM_EMPLOYEES = 50\n",
    "NUM_HOUSES = 1000\n",
    "NUM_OFFICES = 3\n",
    "\n",
    "# Helper function to create random amounts\n",
    "def generate_amount(transaction_type):\n",
    "    if transaction_type == \"Sale\":\n",
    "        return random.uniform(1000000, 20000000)\n",
    "    else:  # Lease\n",
    "        return random.uniform(800, 10000)"
   ]
  },
  {
   "cell_type": "code",
   "execution_count": 3,
   "id": "7bc2f1f7-04a2-4be7-a301-b63753dfdd98",
   "metadata": {},
   "outputs": [],
   "source": [
    "# Generate expenses data\n",
    "expenses_data = []\n",
    "expense_descriptions = [\n",
    "    \"development expense\", \"marketing expense\", \"other expense\",\n",
    "    \"infrastructure expense\", \"operating expense\"\n",
    "]\n",
    "\n",
    "for expense_id in range(1, NUM_EXPENSES + 1):\n",
    "    expenses_data.append({\n",
    "        \"expense_id\": expense_id,\n",
    "        \"description\": random.choice(expense_descriptions),\n",
    "        \"amount\": round(random.uniform(1000, 50000), 2),\n",
    "        \"expense_date\": fake.date_between(start_date=\"-1y\", end_date=\"today\"),\n",
    "        \"office_id\": random.randint(1, NUM_OFFICES),\n",
    "    })"
   ]
  },
  {
   "cell_type": "code",
   "execution_count": 4,
   "id": "28a2267c-ae0b-49a3-8609-f54541ed5265",
   "metadata": {},
   "outputs": [],
   "source": [
    "# Generate transactions, profits, and sales data\n",
    "transactions_data = []\n",
    "profits_data = []\n",
    "sales_data = []\n",
    "\n",
    "for transaction_id in range(1, NUM_TRANSACTIONS + 1):\n",
    "    transaction_type = random.choice([\"Sale\", \"Lease\"])\n",
    "    amount = round(generate_amount(transaction_type), 2)\n",
    "    transaction_date = fake.date_between(start_date=\"-2y\", end_date=\"today\")\n",
    "\n",
    "    # Create transaction entry\n",
    "    transactions_data.append({\n",
    "        \"transaction_id\": transaction_id,\n",
    "        \"employee_id\": random.randint(1, NUM_EMPLOYEES),\n",
    "        \"transaction_type\": transaction_type,\n",
    "        \"transaction_date\": transaction_date,\n",
    "        \"amount\": amount,\n",
    "        \"house_id\": random.randint(1, NUM_HOUSES),\n",
    "        \"client_id\": random.randint(1, NUM_CLIENTS),\n",
    "    })\n",
    "\n",
    "    # Create profit entry with amount less than transaction amount\n",
    "    net_profit = amount * 0.015\n",
    "    profits_data.append({\n",
    "        \"profit_id\": transaction_id,\n",
    "        \"transaction_id\": transaction_id,\n",
    "        \"net_profit\": net_profit,\n",
    "        \"profit_date\": transaction_date,\n",
    "    })\n",
    "\n",
    "    # Create sales entry\n",
    "    sale_price = amount\n",
    "    listing_price = round(sale_price * random.uniform(1.0, 1.3), 2)\n",
    "    sales_data.append({\n",
    "        \"sale_id\": transaction_id,\n",
    "        \"transaction_id\": transaction_id,\n",
    "        \"listing_price\": listing_price,\n",
    "        \"sale_price\": sale_price,\n",
    "        \"sale_date\": transaction_date,\n",
    "    })"
   ]
  },
  {
   "cell_type": "code",
   "execution_count": 5,
   "id": "1a4b25cf-65c2-4c4e-af8f-6ffd76aba61b",
   "metadata": {},
   "outputs": [],
   "source": [
    "# Create DataFrames\n",
    "expenses_df = pd.DataFrame(expenses_data)\n",
    "transactions_df = pd.DataFrame(transactions_data)\n",
    "profits_df = pd.DataFrame(profits_data)\n",
    "sales_df = pd.DataFrame(sales_data)"
   ]
  },
  {
   "cell_type": "code",
   "execution_count": 6,
   "id": "15725f65-8189-4d16-9059-af31422e473f",
   "metadata": {},
   "outputs": [
    {
     "name": "stdout",
     "output_type": "stream",
     "text": [
      "\n",
      "Transactions Data:\n",
      "   transaction_id  employee_id transaction_type transaction_date       amount  \\\n",
      "0               1            7             Sale       2023-03-23  12249127.61   \n",
      "1               2            2             Sale       2022-09-23  14219287.38   \n",
      "2               3           39            Lease       2023-02-28      5760.21   \n",
      "3               4           30             Sale       2022-10-22  12593858.48   \n",
      "4               5           33            Lease       2024-02-17      4473.08   \n",
      "\n",
      "   house_id  client_id  \n",
      "0       695        979  \n",
      "1       442       1711  \n",
      "2       847       1949  \n",
      "3       720       2768  \n",
      "4       554       1418  \n",
      "Expenses Data:\n",
      "   expense_id        description    amount expense_date  office_id\n",
      "0           1  operating expense  28353.30   2024-04-18          3\n",
      "1           2  marketing expense  39044.75   2023-09-07          2\n",
      "2           3      other expense   2138.94   2024-07-16          3\n",
      "3           4  marketing expense  38103.73   2024-01-01          3\n",
      "4           5      other expense  30969.90   2024-01-29          3\n",
      "\n",
      "Profits Data:\n",
      "   profit_id  transaction_id    net_profit profit_date\n",
      "0          1               1  183736.91415  2023-03-23\n",
      "1          2               2  213289.31070  2022-09-23\n",
      "2          3               3      86.40315  2023-02-28\n",
      "3          4               4  188907.87720  2022-10-22\n",
      "4          5               5      67.09620  2024-02-17\n",
      "\n",
      "Sales Data:\n",
      "   sale_id  transaction_id  listing_price   sale_price   sale_date\n",
      "0        1               1    14949672.14  12249127.61  2023-03-23\n",
      "1        2               2    14722669.92  14219287.38  2022-09-23\n",
      "2        3               3        6762.39      5760.21  2023-02-28\n",
      "3        4               4    15031869.94  12593858.48  2022-10-22\n",
      "4        5               5        5484.93      4473.08  2024-02-17\n"
     ]
    }
   ],
   "source": [
    "# Display initial rows of each dataframe\n",
    "print(\"\\nTransactions Data:\")\n",
    "print(transactions_df.head())\n",
    "print(\"Expenses Data:\")\n",
    "print(expenses_df.head())\n",
    "print(\"\\nProfits Data:\")\n",
    "print(profits_df.head())\n",
    "print(\"\\nSales Data:\")\n",
    "print(sales_df.head())"
   ]
  },
  {
   "cell_type": "code",
   "execution_count": 7,
   "id": "e0fc02a0-211d-4cf3-85d6-82da93e5b3f5",
   "metadata": {},
   "outputs": [],
   "source": [
    "# Save to CSV if needed\n",
    "transactions_df.to_csv('/Users/tuntun/Downloads/transactions.csv', index=False)\n",
    "expenses_df.to_csv('/Users/tuntun/Downloads/expenses.csv', index=False)\n",
    "profits_df.to_csv('/Users/tuntun/Downloads/profits.csv', index=False)\n",
    "sales_df.to_csv('/Users/tuntun/Downloads/sales.csv', index=False)"
   ]
  },
  {
   "cell_type": "code",
   "execution_count": null,
   "id": "d8f1a053-d96e-49ff-83bb-660eef43a945",
   "metadata": {},
   "outputs": [],
   "source": []
  }
 ],
 "metadata": {
  "kernelspec": {
   "display_name": "Python 3 (ipykernel)",
   "language": "python",
   "name": "python3"
  },
  "language_info": {
   "codemirror_mode": {
    "name": "ipython",
    "version": 3
   },
   "file_extension": ".py",
   "mimetype": "text/x-python",
   "name": "python",
   "nbconvert_exporter": "python",
   "pygments_lexer": "ipython3",
   "version": "3.12.2"
  }
 },
 "nbformat": 4,
 "nbformat_minor": 5
}
